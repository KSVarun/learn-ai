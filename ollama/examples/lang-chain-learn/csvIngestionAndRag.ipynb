{
 "cells": [
  {
   "cell_type": "code",
   "execution_count": 30,
   "metadata": {},
   "outputs": [],
   "source": [
    "import csv\n",
    "from langchain.docstore.document import Document \n",
    "from langchain.text_splitter import CharacterTextSplitter\n",
    "from langchain.vectorstores import Chroma\n",
    "from langchain_community.chat_models import ChatOllama\n",
    "from langchain_community.embeddings import OllamaEmbeddings\n",
    "from langchain_core.prompts import ChatPromptTemplate\n",
    "from langchain_core.runnables import RunnablePassthrough\n",
    "\n",
    "columns_to_embed=[\"Match Name\",\"Series Name\", \"Match Date\",\"Team1 Name\", \"Team1 Runs Scored\",\"Team1 Wickets Fell\",\"Team2 Name\",\"Team2 Runs Scored\",\"Team2 Wickets Fell\",\"Match Venue (Stadium)\",\"Match Venue (City)\",\"Match Venue (Country)\",\"Umpire 1\",\"Umpire 2\",\"Match Referee\",\"Toss Winner\",\"Toss Winner Choice\",\"Match Winner\",\"Match Result Text\"]\n",
    "columns_to_metadata = [\"Match Name\",\"Series Name\", \"Match Date\",\"Team1 Name\", \"Team1 Runs Scored\",\"Team1 Wickets Fell\",\"Team2 Name\",\"Team2 Runs Scored\",\"Team2 Wickets Fell\",\"Match Venue (Stadium)\",\"Match Venue (City)\",\"Match Venue (Country)\",\"Umpire 1\",\"Umpire 2\",\"Match Referee\",\"Toss Winner\",\"Toss Winner Choice\",\"Match Winner\",\"Match Result Text\"]\n",
    "\n",
    "model=\"llama3\"\n",
    "llm = ChatOllama(model=model, temperature=0)\n"
   ]
  },
  {
   "cell_type": "code",
   "execution_count": 31,
   "metadata": {},
   "outputs": [
    {
     "name": "stdout",
     "output_type": "stream",
     "text": [
      "page_content='Match Name: Australia Vs India Only T20I\\nSeries Name: India tour of Australia  - 2007 (2007/08)\\nMatch Date: 2008-02-01\\nTeam1 Name: India\\nTeam1 Runs Scored: 74.0\\nTeam1 Wickets Fell: 10.0\\nTeam2 Name: Australia\\nTeam2 Runs Scored: 75.0\\nTeam2 Wickets Fell: 1.0\\nMatch Venue (Stadium): Melbourne Cricket Ground\\nMatch Venue (City): Melbourne\\nMatch Venue (Country): Australia\\nUmpire 1: BNJ Oxenford\\nUmpire 2: SJA Taufel\\nMatch Referee: JJ Crowe\\nToss Winner: India\\nToss Winner Choice: bat\\nMatch Winner: Australia\\nMatch Result Text: Australia won by 9 wickets (with 52 balls remaining)' metadata={'Match Name': 'Australia Vs India Only T20I', 'Series Name': 'India tour of Australia  - 2007 (2007/08)', 'Match Date': '2008-02-01', 'Team1 Name': 'India', 'Team1 Runs Scored': '74.0', 'Team1 Wickets Fell': '10.0', 'Team2 Name': 'Australia', 'Team2 Runs Scored': '75.0', 'Team2 Wickets Fell': '1.0', 'Match Venue (Stadium)': 'Melbourne Cricket Ground', 'Match Venue (City)': 'Melbourne', 'Match Venue (Country)': 'Australia', 'Umpire 1': 'BNJ Oxenford', 'Umpire 2': 'SJA Taufel', 'Match Referee': 'JJ Crowe', 'Toss Winner': 'India', 'Toss Winner Choice': 'bat', 'Match Winner': 'Australia', 'Match Result Text': 'Australia won by 9 wickets (with 52 balls remaining)'}\n"
     ]
    }
   ],
   "source": [
    "# Process the CSV into the embedable content vs the metadata and put it into Document format so that we can chunk it into pieces.\n",
    "docs = []\n",
    "with open('t20i_Matches_Data.csv', newline=\"\", encoding='utf-8-sig') as csvfile:\n",
    "    csv_reader = csv.DictReader(csvfile)\n",
    "    for i, row in enumerate(csv_reader):\n",
    "        to_metadata = {col: row[col] for col in columns_to_metadata if col in row}\n",
    "        values_to_embed = {k: row[k] for k in columns_to_embed if k in row}\n",
    "        to_embed = \"\\n\".join(f\"{k.strip()}: {v.strip()}\" for k, v in values_to_embed.items())\n",
    "        newDoc = Document(page_content=to_embed, metadata=to_metadata)\n",
    "        docs.append(newDoc)\n",
    "\n",
    "print(docs[0])"
   ]
  },
  {
   "cell_type": "code",
   "execution_count": 32,
   "metadata": {},
   "outputs": [],
   "source": [
    "splitter = CharacterTextSplitter(separator = \"\\n\",\n",
    "                                chunk_size=500, \n",
    "                                chunk_overlap=0,\n",
    "                                length_function=len)\n",
    "documents = splitter.split_documents(docs)"
   ]
  },
  {
   "cell_type": "code",
   "execution_count": 33,
   "metadata": {},
   "outputs": [],
   "source": [
    "ollama_emb = OllamaEmbeddings(\n",
    "    model=model,\n",
    ")\n",
    "vectorstore = Chroma.from_documents(\n",
    "    documents,\n",
    "    embedding=ollama_emb,\n",
    ")"
   ]
  },
  {
   "cell_type": "code",
   "execution_count": 34,
   "metadata": {},
   "outputs": [],
   "source": [
    "from langchain.retrievers.self_query.base import SelfQueryRetriever\n",
    "from langchain.chains.query_constructor.base import AttributeInfo\n",
    "\n",
    "metadata_field_info = [\n",
    "    AttributeInfo(\n",
    "        name=\"Match Name\",\n",
    "        description=\"Name of the match\",\n",
    "        type=\"string\",\n",
    "    ),\n",
    "    AttributeInfo(\n",
    "        name=\"Series Name\",\n",
    "        description=\"Name of the series\",\n",
    "        type=\"string\",\n",
    "    ),\n",
    "    AttributeInfo(\n",
    "        name=\"Rating\",\n",
    "        description=\"The rating of the product as a number from 0 to 5. Ex. 4.5\",\n",
    "        type=\"string\",\n",
    "    ),\n",
    "    AttributeInfo(\n",
    "        name=\"Description\", \n",
    "        description=\"Description of the product\", type=\"string\"\n",
    "    ),\n",
    "    AttributeInfo(\n",
    "        name=\"Features\", \n",
    "        description=\"Features of the product\", \n",
    "        type=\"string\"\n",
    "    ),\n",
    "]\n",
    "\n",
    "\n",
    "retriever = vectorstore.as_retriever(\n",
    "    search_type=\"similarity\",\n",
    ")"
   ]
  },
  {
   "cell_type": "code",
   "execution_count": 76,
   "metadata": {},
   "outputs": [
    {
     "name": "stderr",
     "output_type": "stream",
     "text": [
      "Parent run ba749533-2ce9-4a17-9a0b-c1def5ddfbfe not found for run 2b4d5649-5a95-47c8-b8a5-9052cfa3b182. Treating as a root run.\n"
     ]
    },
    {
     "data": {
      "text/plain": [
       "'Based on the provided context, there are three matches where the match winner was India:\\n\\n1. India Vs Ireland 12Th Match Group A (2009)\\n2. India Vs Pakistan 19Th Match Super 10 Group 2 (2016)\\n3. Australia Vs India 1St T20I (2020)'"
      ]
     },
     "execution_count": 76,
     "metadata": {},
     "output_type": "execute_result"
    }
   ],
   "source": [
    "# message = \"\"\"\n",
    "# Answer this question using the provided context only.\n",
    "\n",
    "# {question}\n",
    "\n",
    "# Context:\n",
    "# {context}\n",
    "# \"\"\"\n",
    "\n",
    "# prompt = ChatPromptTemplate.from_messages([(\"human\", message)])\n",
    "\n",
    "# rag_chain = {\"context\": retriever, \"question\": RunnablePassthrough()} | prompt | llm\n",
    "\n",
    "# response = rag_chain.invoke(\"when did the first australia vs india match happen\")\n",
    "\n",
    "# print(response.content)\n",
    "\n",
    "from langchain_community.chat_message_histories import ChatMessageHistory\n",
    "from langchain_core.chat_history import BaseChatMessageHistory\n",
    "from langchain_core.runnables.history import RunnableWithMessageHistory\n",
    "from langchain_core.prompts import MessagesPlaceholder\n",
    "from langchain_core.messages import HumanMessage\n",
    "from operator import itemgetter\n",
    "from langchain.chains import create_history_aware_retriever, create_retrieval_chain\n",
    "from langchain.chains.combine_documents import create_stuff_documents_chain\n",
    "\n",
    "### Contextualize question ###\n",
    "contextualize_q_system_prompt = (\n",
    "    \"Given a chat history and the latest user question \"\n",
    "    \"which might reference context in the chat history, \"\n",
    "    \"formulate a standalone question which can be understood \"\n",
    "    \"without the chat history. Do NOT answer the question, \"\n",
    "    \"just reformulate it if needed and otherwise return it as is.\"\n",
    ")\n",
    "contextualize_q_prompt = ChatPromptTemplate.from_messages(\n",
    "    [\n",
    "        (\"system\", contextualize_q_system_prompt),\n",
    "        MessagesPlaceholder(\"chat_history\"),\n",
    "        (\"human\", \"{input}\"),\n",
    "    ]\n",
    ")\n",
    "history_aware_retriever = create_history_aware_retriever(\n",
    "    llm, retriever, contextualize_q_prompt\n",
    ")\n",
    "\n",
    "\n",
    "### Answer question ###\n",
    "system_prompt = (\n",
    "    \"You are an assistant for question-answering tasks. \"\n",
    "    \"The context provided has data regarding cricket matches played for years\"\n",
    "    \"Use the following pieces of retrieved context to answer \"\n",
    "    \"the question. If you don't know the answer, say that you \"\n",
    "    \"don't know.\"\n",
    "    \"\\n\\n\"\n",
    "    \"{context}\"\n",
    ")\n",
    "qa_prompt = ChatPromptTemplate.from_messages(\n",
    "    [\n",
    "        (\"system\", system_prompt),\n",
    "        MessagesPlaceholder(\"chat_history\"),\n",
    "        (\"human\", \"{input}\"),\n",
    "    ]\n",
    ")\n",
    "question_answer_chain = create_stuff_documents_chain(llm, qa_prompt)\n",
    "\n",
    "rag_chain = create_retrieval_chain(history_aware_retriever, question_answer_chain)\n",
    "\n",
    "\n",
    "### Statefully manage chat history ###\n",
    "store = {}\n",
    "\n",
    "\n",
    "def get_session_history(session_id: str) -> BaseChatMessageHistory:\n",
    "    if session_id not in store:\n",
    "        store[session_id] = ChatMessageHistory()\n",
    "    return store[session_id]\n",
    "\n",
    "\n",
    "conversational_rag_chain = RunnableWithMessageHistory(\n",
    "    rag_chain,\n",
    "    get_session_history,\n",
    "    input_messages_key=\"input\",\n",
    "    history_messages_key=\"chat_history\",\n",
    "    output_messages_key=\"answer\",\n",
    ")\n",
    "# response = rag_chain.invoke(\"among all the matches that have happened, when did the first australia vs india match happen\")\n",
    "config = {\"configurable\": {\"session_id\": \"first\"}}\n",
    "\n",
    "conversational_rag_chain.invoke(\n",
    "    {\"input\": \"How many matches did we have Match Winner as India\"},\n",
    "    config={\n",
    "        \"configurable\": {\"session_id\": \"abc123\"}\n",
    "    },  # constructs a key \"abc123\" in `store`.\n",
    ")[\"answer\"]"
   ]
  },
  {
   "cell_type": "code",
   "execution_count": 77,
   "metadata": {},
   "outputs": [
    {
     "name": "stderr",
     "output_type": "stream",
     "text": [
      "Parent run cdb928ce-bc0d-4221-82fc-73c93fd27556 not found for run 65327ee4-cc5f-4daf-a710-05f0427d4ab2. Treating as a root run.\n"
     ]
    },
    {
     "data": {
      "text/plain": [
       "'Based on the provided context, there are 4 matches mentioned:\\n\\n1. Ireland vs ? (2009)\\n2. ? vs ? (abandoned with a toss)\\n3. ? vs ? (abandoned with a toss)\\n4. New Zealand vs ? (2016)\\n\\nNote that not all match details are provided in the context, but there are 4 mentions of matches in total.'"
      ]
     },
     "execution_count": 77,
     "metadata": {},
     "output_type": "execute_result"
    }
   ],
   "source": [
    "conversational_rag_chain.invoke(\n",
    "    {\"input\": \"how many total cricket matches are there in the context\"},\n",
    "    config={\n",
    "        \"configurable\": {\"session_id\": \"abc123\"}\n",
    "    },  # constructs a key \"abc123\" in `store`.\n",
    ")[\"answer\"]"
   ]
  },
  {
   "cell_type": "code",
   "execution_count": 79,
   "metadata": {},
   "outputs": [],
   "source": [
    "vectorstore.delete_collection()"
   ]
  }
 ],
 "metadata": {
  "kernelspec": {
   "display_name": "ollam-llama",
   "language": "python",
   "name": "python3"
  },
  "language_info": {
   "codemirror_mode": {
    "name": "ipython",
    "version": 3
   },
   "file_extension": ".py",
   "mimetype": "text/x-python",
   "name": "python",
   "nbconvert_exporter": "python",
   "pygments_lexer": "ipython3",
   "version": "3.1.undefined"
  }
 },
 "nbformat": 4,
 "nbformat_minor": 2
}
