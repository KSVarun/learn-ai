{
 "cells": [
  {
   "cell_type": "code",
   "execution_count": 2,
   "metadata": {},
   "outputs": [],
   "source": [
    "from langchain_community.document_loaders import CSVLoader\n",
    "from langchain.docstore.document import Document \n",
    "from langchain.text_splitter import CharacterTextSplitter\n",
    "from langchain.vectorstores import Chroma\n",
    "from langchain_community.chat_models import ChatOllama\n",
    "from langchain_community.embeddings import OllamaEmbeddings\n",
    "from langchain_core.prompts import ChatPromptTemplate\n",
    "from langchain_core.runnables import RunnablePassthrough\n",
    "from langchain.text_splitter import RecursiveCharacterTextSplitter\n",
    "\n",
    "model=\"llama3\"\n",
    "llm = ChatOllama(model=model, temperature=0)"
   ]
  },
  {
   "cell_type": "code",
   "execution_count": 3,
   "metadata": {},
   "outputs": [],
   "source": [
    "# loader = CSVLoader(\"./t20i_Matches_Data.csv\")\n",
    "# docs = loader.load()\n",
    "import csv\n",
    "\n",
    "columns_to_embed=[\"Match Name\",\"Series Name\", \"Match Date\",\"Team1 Name\", \"Team1 Runs Scored\",\"Team1 Wickets Fell\",\"Team2 Name\",\"Team2 Runs Scored\",\"Team2 Wickets Fell\",\"Match Venue (Stadium)\",\"Match Venue (City)\",\"Match Venue (Country)\",\"Umpire 1\",\"Umpire 2\",\"Match Referee\",\"Toss Winner\",\"Toss Winner Choice\",\"Match Winner\",\"Match Result Text\"]\n",
    "columns_to_metadata = [\"Match Name\",\"Series Name\", \"Match Date\",\"Team1 Name\", \"Team1 Runs Scored\",\"Team1 Wickets Fell\",\"Team2 Name\",\"Team2 Runs Scored\",\"Team2 Wickets Fell\",\"Match Venue (Stadium)\",\"Match Venue (City)\",\"Match Venue (Country)\",\"Umpire 1\",\"Umpire 2\",\"Match Referee\",\"Toss Winner\",\"Toss Winner Choice\",\"Match Winner\",\"Match Result Text\"]\n",
    "\n",
    "docs = []\n",
    "with open('t20i_Matches_Data.csv', newline=\"\", encoding='utf-8-sig') as csvfile:\n",
    "    csv_reader = csv.DictReader(csvfile)\n",
    "    for i, row in enumerate(csv_reader):\n",
    "        to_metadata = {col: row[col] for col in columns_to_metadata if col in row}\n",
    "        values_to_embed = {k: row[k] for k in columns_to_embed if k in row}\n",
    "        to_embed = \"\\n\".join(f\"{k.strip()}: {v.strip()}\" for k, v in values_to_embed.items())\n",
    "        newDoc = Document(page_content=to_embed, metadata=to_metadata)\n",
    "        docs.append(newDoc)\n",
    "\n"
   ]
  },
  {
   "cell_type": "code",
   "execution_count": 4,
   "metadata": {},
   "outputs": [
    {
     "name": "stdout",
     "output_type": "stream",
     "text": [
      "page_content='Match Name: Australia Vs India Only T20I\\nSeries Name: India tour of Australia  - 2007 (2007/08)\\nMatch Date: 2008-02-01\\nTeam1 Name: India\\nTeam1 Runs Scored: 74.0\\nTeam1 Wickets Fell: 10.0\\nTeam2 Name: Australia\\nTeam2 Runs Scored: 75.0\\nTeam2 Wickets Fell: 1.0' metadata={'Match Name': 'Australia Vs India Only T20I', 'Series Name': 'India tour of Australia  - 2007 (2007/08)', 'Match Date': '2008-02-01', 'Team1 Name': 'India', 'Team1 Runs Scored': '74.0', 'Team1 Wickets Fell': '10.0', 'Team2 Name': 'Australia', 'Team2 Runs Scored': '75.0', 'Team2 Wickets Fell': '1.0', 'Match Venue (Stadium)': 'Melbourne Cricket Ground', 'Match Venue (City)': 'Melbourne', 'Match Venue (Country)': 'Australia', 'Umpire 1': 'BNJ Oxenford', 'Umpire 2': 'SJA Taufel', 'Match Referee': 'JJ Crowe', 'Toss Winner': 'India', 'Toss Winner Choice': 'bat', 'Match Winner': 'Australia', 'Match Result Text': 'Australia won by 9 wickets (with 52 balls remaining)'} \n",
      " page_content='Match Venue (Stadium): Melbourne Cricket Ground\\nMatch Venue (City): Melbourne\\nMatch Venue (Country): Australia\\nUmpire 1: BNJ Oxenford\\nUmpire 2: SJA Taufel\\nMatch Referee: JJ Crowe\\nToss Winner: India\\nToss Winner Choice: bat\\nMatch Winner: Australia' metadata={'Match Name': 'Australia Vs India Only T20I', 'Series Name': 'India tour of Australia  - 2007 (2007/08)', 'Match Date': '2008-02-01', 'Team1 Name': 'India', 'Team1 Runs Scored': '74.0', 'Team1 Wickets Fell': '10.0', 'Team2 Name': 'Australia', 'Team2 Runs Scored': '75.0', 'Team2 Wickets Fell': '1.0', 'Match Venue (Stadium)': 'Melbourne Cricket Ground', 'Match Venue (City)': 'Melbourne', 'Match Venue (Country)': 'Australia', 'Umpire 1': 'BNJ Oxenford', 'Umpire 2': 'SJA Taufel', 'Match Referee': 'JJ Crowe', 'Toss Winner': 'India', 'Toss Winner Choice': 'bat', 'Match Winner': 'Australia', 'Match Result Text': 'Australia won by 9 wickets (with 52 balls remaining)'} \n",
      " page_content='Match Result Text: Australia won by 9 wickets (with 52 balls remaining)' metadata={'Match Name': 'Australia Vs India Only T20I', 'Series Name': 'India tour of Australia  - 2007 (2007/08)', 'Match Date': '2008-02-01', 'Team1 Name': 'India', 'Team1 Runs Scored': '74.0', 'Team1 Wickets Fell': '10.0', 'Team2 Name': 'Australia', 'Team2 Runs Scored': '75.0', 'Team2 Wickets Fell': '1.0', 'Match Venue (Stadium)': 'Melbourne Cricket Ground', 'Match Venue (City)': 'Melbourne', 'Match Venue (Country)': 'Australia', 'Umpire 1': 'BNJ Oxenford', 'Umpire 2': 'SJA Taufel', 'Match Referee': 'JJ Crowe', 'Toss Winner': 'India', 'Toss Winner Choice': 'bat', 'Match Winner': 'Australia', 'Match Result Text': 'Australia won by 9 wickets (with 52 balls remaining)'} \n",
      " page_content='Match Name: New Zealand Vs England 2Nd T20I\\nSeries Name: England tour of New Zealand  - 2008 (2007/08)\\nMatch Date: 2008-02-07\\nTeam1 Name: England\\nTeam1 Runs Scored: 193.0\\nTeam1 Wickets Fell: 8.0\\nTeam2 Name: New Zealand\\nTeam2 Runs Scored: 143.0\\nTeam2 Wickets Fell: 8.0' metadata={'Match Name': 'New Zealand Vs England 2Nd T20I', 'Series Name': 'England tour of New Zealand  - 2008 (2007/08)', 'Match Date': '2008-02-07', 'Team1 Name': 'England', 'Team1 Runs Scored': '193.0', 'Team1 Wickets Fell': '8.0', 'Team2 Name': 'New Zealand', 'Team2 Runs Scored': '143.0', 'Team2 Wickets Fell': '8.0', 'Match Venue (Stadium)': 'Jade Stadium', 'Match Venue (City)': 'Christchurch', 'Match Venue (Country)': 'New Zealand', 'Umpire 1': 'BF Bowden', 'Umpire 2': 'GAV Baxter', 'Match Referee': 'AG Hurst', 'Toss Winner': 'England', 'Toss Winner Choice': 'bat', 'Match Winner': 'England', 'Match Result Text': 'England won by 50 runs'} \n",
      " page_content='Match Venue (Stadium): Jade Stadium\\nMatch Venue (City): Christchurch\\nMatch Venue (Country): New Zealand\\nUmpire 1: BF Bowden\\nUmpire 2: GAV Baxter\\nMatch Referee: AG Hurst\\nToss Winner: England\\nToss Winner Choice: bat\\nMatch Winner: England\\nMatch Result Text: England won by 50 runs' metadata={'Match Name': 'New Zealand Vs England 2Nd T20I', 'Series Name': 'England tour of New Zealand  - 2008 (2007/08)', 'Match Date': '2008-02-07', 'Team1 Name': 'England', 'Team1 Runs Scored': '193.0', 'Team1 Wickets Fell': '8.0', 'Team2 Name': 'New Zealand', 'Team2 Runs Scored': '143.0', 'Team2 Wickets Fell': '8.0', 'Match Venue (Stadium)': 'Jade Stadium', 'Match Venue (City)': 'Christchurch', 'Match Venue (Country)': 'New Zealand', 'Umpire 1': 'BF Bowden', 'Umpire 2': 'GAV Baxter', 'Match Referee': 'AG Hurst', 'Toss Winner': 'England', 'Toss Winner Choice': 'bat', 'Match Winner': 'England', 'Match Result Text': 'England won by 50 runs'} \n",
      " page_content='Match Name: Netherlands Vs Scotland 2Nd Semi Final\\nSeries Name: ICC World Twenty20 Qualifier Bermuda, Canada, Ireland, Kenya, Netherlands, Scotland in Ireland - 2008 (2008)\\nMatch Date: 2008-08-04\\nTeam1 Name: Scotland\\nTeam1 Runs Scored: 107.0\\nTeam1 Wickets Fell: 8.0\\nTeam2 Name: Netherlands' metadata={'Match Name': 'Netherlands Vs Scotland 2Nd Semi Final', 'Series Name': 'ICC World Twenty20 Qualifier Bermuda, Canada, Ireland, Kenya, Netherlands, Scotland in Ireland - 2008 (2008)', 'Match Date': '2008-08-04', 'Team1 Name': 'Scotland', 'Team1 Runs Scored': '107.0', 'Team1 Wickets Fell': '8.0', 'Team2 Name': 'Netherlands', 'Team2 Runs Scored': '110.0', 'Team2 Wickets Fell': '5.0', 'Match Venue (Stadium)': 'Civil Service Cricket Club', 'Match Venue (City)': 'Belfast', 'Match Venue (Country)': 'Ireland', 'Umpire 1': 'NG Bagh', 'Umpire 2': 'PK Baldwin', 'Match Referee': 'BC Broad', 'Toss Winner': 'Netherlands', 'Toss Winner Choice': 'bowl', 'Match Winner': 'Netherlands', 'Match Result Text': 'Netherlands won by 5 wickets (with 12 balls remaining)'}\n"
     ]
    }
   ],
   "source": [
    "splitter = CharacterTextSplitter(separator = \"\\n\",\n",
    "                                chunk_size=300, \n",
    "                                chunk_overlap=0,\n",
    "                                length_function=len)\n",
    "documents = splitter.split_documents(docs)\n",
    "\n",
    "print(documents[0],'\\n',\n",
    "documents[1],'\\n',\n",
    "documents[2],'\\n',\n",
    "documents[3],'\\n',\n",
    "documents[4],'\\n',\n",
    "documents[5])"
   ]
  },
  {
   "cell_type": "code",
   "execution_count": null,
   "metadata": {},
   "outputs": [],
   "source": [
    "# splitter1 = RecursiveCharacterTextSplitter(\n",
    "#                                 chunk_size=300, \n",
    "#                                 chunk_overlap=0,\n",
    "#                                 length_function=len)\n",
    "# documents1 = splitter1.split_documents(docs)\n",
    "\n",
    "# print(documents1[0],'\\n',\n",
    "# documents1[1],'\\n',\n",
    "# documents1[2],'\\n',\n",
    "# documents1[3],'\\n',\n",
    "# documents1[4],'\\n',\n",
    "# documents1[5])"
   ]
  },
  {
   "cell_type": "code",
   "execution_count": 5,
   "metadata": {},
   "outputs": [
    {
     "name": "stderr",
     "output_type": "stream",
     "text": [
      "/Users/varun/learn/ai/learn-ai/env/lib/python3.12/site-packages/langchain_core/_api/deprecation.py:139: LangChainDeprecationWarning: The class `HuggingFaceEmbeddings` was deprecated in LangChain 0.2.2 and will be removed in 0.3.0. An updated version of the class exists in the langchain-huggingface package and should be used instead. To use it run `pip install -U langchain-huggingface` and import as `from langchain_huggingface import HuggingFaceEmbeddings`.\n",
      "  warn_deprecated(\n",
      "/Users/varun/learn/ai/learn-ai/env/lib/python3.12/site-packages/sentence_transformers/cross_encoder/CrossEncoder.py:11: TqdmWarning: IProgress not found. Please update jupyter and ipywidgets. See https://ipywidgets.readthedocs.io/en/stable/user_install.html\n",
      "  from tqdm.autonotebook import tqdm, trange\n",
      "/Users/varun/learn/ai/learn-ai/env/lib/python3.12/site-packages/huggingface_hub/file_download.py:1132: FutureWarning: `resume_download` is deprecated and will be removed in version 1.0.0. Downloads always resume when possible. If you want to force a new download, use `force_download=True`.\n",
      "  warnings.warn(\n"
     ]
    },
    {
     "name": "stdout",
     "output_type": "stream",
     "text": [
      "2539\n"
     ]
    }
   ],
   "source": [
    "from langchain.embeddings import HuggingFaceEmbeddings\n",
    "\n",
    "embeddings = HuggingFaceEmbeddings(model_name=\"all-mpnet-base-v2\")\n",
    "\n",
    "vectorstore = Chroma.from_documents(\n",
    "    documents,\n",
    "    embedding=embeddings,\n",
    ")\n",
    "\n",
    "print(len(vectorstore))"
   ]
  },
  {
   "cell_type": "code",
   "execution_count": 6,
   "metadata": {},
   "outputs": [
    {
     "data": {
      "text/plain": [
       "[Document(page_content='Match Name: Sri Lanka Vs Australia 2Nd T20I\\nSeries Name: Australia tour of Sri Lanka  - 2016 (2016)\\nMatch Date: 2016-09-09\\nTeam1 Name: Sri Lanka\\nTeam1 Runs Scored: 128.0\\nTeam1 Wickets Fell: 9.0\\nTeam2 Name: Australia\\nTeam2 Runs Scored: 130.0\\nTeam2 Wickets Fell: 6.0', metadata={'Match Date': '2016-09-09', 'Match Name': 'Sri Lanka Vs Australia 2Nd T20I', 'Match Referee': 'J Srinath', 'Match Result Text': 'Australia won by 4 wickets (with 13 balls remaining)', 'Match Venue (City)': 'Colombo', 'Match Venue (Country)': 'Sri Lanka', 'Match Venue (Stadium)': 'R Premadasa Stadium', 'Match Winner': 'Australia', 'Series Name': 'Australia tour of Sri Lanka  - 2016 (2016)', 'Team1 Name': 'Sri Lanka', 'Team1 Runs Scored': '128.0', 'Team1 Wickets Fell': '9.0', 'Team2 Name': 'Australia', 'Team2 Runs Scored': '130.0', 'Team2 Wickets Fell': '6.0', 'Toss Winner': 'Sri Lanka', 'Toss Winner Choice': 'bat', 'Umpire 1': 'REJ Martinesz', 'Umpire 2': 'RSA Palliyaguruge'}),\n",
       " Document(page_content='Match Name: Australia Vs Sri Lanka 3Rd T20I\\nSeries Name: Sri Lanka tour of AUS  - 2019 (2019/20)\\nMatch Date: 2019-11-01\\nTeam1 Name: Sri Lanka\\nTeam1 Runs Scored: 142.0\\nTeam1 Wickets Fell: 6.0\\nTeam2 Name: Australia\\nTeam2 Runs Scored: 145.0\\nTeam2 Wickets Fell: 3.0', metadata={'Match Date': '2019-11-01', 'Match Name': 'Australia Vs Sri Lanka 3Rd T20I', 'Match Referee': 'J Srinath', 'Match Result Text': 'Australia won by 7 wickets (with 14 balls remaining)', 'Match Venue (City)': 'Melbourne', 'Match Venue (Country)': 'Australia', 'Match Venue (Stadium)': 'Melbourne Cricket Ground', 'Match Winner': 'Australia', 'Series Name': 'Sri Lanka tour of AUS  - 2019 (2019/20)', 'Team1 Name': 'Sri Lanka', 'Team1 Runs Scored': '142.0', 'Team1 Wickets Fell': '6.0', 'Team2 Name': 'Australia', 'Team2 Runs Scored': '145.0', 'Team2 Wickets Fell': '3.0', 'Toss Winner': 'Australia', 'Toss Winner Choice': 'bowl', 'Umpire 1': 'P Wilson', 'Umpire 2': 'SAJ Craig'}),\n",
       " Document(page_content='Match Name: Australia Vs Sri Lanka 2Nd T20I\\nSeries Name: Sri Lanka tour of AUS  - 2019 (2019/20)\\nMatch Date: 2019-10-30\\nTeam1 Name: Sri Lanka\\nTeam1 Runs Scored: 117.0\\nTeam1 Wickets Fell: 10.0\\nTeam2 Name: Australia\\nTeam2 Runs Scored: 118.0\\nTeam2 Wickets Fell: 1.0', metadata={'Match Date': '2019-10-30', 'Match Name': 'Australia Vs Sri Lanka 2Nd T20I', 'Match Referee': 'J Srinath', 'Match Result Text': 'Australia won by 9 wickets (with 42 balls remaining)', 'Match Venue (City)': 'Brisbane', 'Match Venue (Country)': 'Australia', 'Match Venue (Stadium)': 'Brisbane Cricket Ground', 'Match Winner': 'Australia', 'Series Name': 'Sri Lanka tour of AUS  - 2019 (2019/20)', 'Team1 Name': 'Sri Lanka', 'Team1 Runs Scored': '117.0', 'Team1 Wickets Fell': '10.0', 'Team2 Name': 'Australia', 'Team2 Runs Scored': '118.0', 'Team2 Wickets Fell': '1.0', 'Toss Winner': 'Sri Lanka', 'Toss Winner Choice': 'bat', 'Umpire 1': 'GA Abood', 'Umpire 2': 'P Wilson'}),\n",
       " Document(page_content='Match Name: Australia Vs Sri Lanka 3Rd T20I\\nSeries Name: AUS v SL  - 2017 (2016/17)\\nMatch Date: 2017-02-22\\nTeam1 Name: Australia\\nTeam1 Runs Scored: 187.0\\nTeam1 Wickets Fell: 6.0\\nTeam2 Name: Sri Lanka\\nTeam2 Runs Scored: 146.0\\nTeam2 Wickets Fell: 10.0\\nMatch Venue (Stadium): Adelaide Oval', metadata={'Match Date': '2017-02-22', 'Match Name': 'Australia Vs Sri Lanka 3Rd T20I', 'Match Referee': 'JJ Crowe', 'Match Result Text': 'Australia won by 41 runs', 'Match Venue (City)': 'Adelaide', 'Match Venue (Country)': 'Australia', 'Match Venue (Stadium)': 'Adelaide Oval', 'Match Winner': 'Australia', 'Series Name': 'AUS v SL  - 2017 (2016/17)', 'Team1 Name': 'Australia', 'Team1 Runs Scored': '187.0', 'Team1 Wickets Fell': '6.0', 'Team2 Name': 'Sri Lanka', 'Team2 Runs Scored': '146.0', 'Team2 Wickets Fell': '10.0', 'Toss Winner': 'Sri Lanka', 'Toss Winner Choice': 'bowl', 'Umpire 1': 'MD Martell', 'Umpire 2': 'P Wilson'})]"
      ]
     },
     "execution_count": 6,
     "metadata": {},
     "output_type": "execute_result"
    }
   ],
   "source": [
    "vectorstore.similarity_search(\"Australia Vs Sri Lanka 3Rd T20I\")"
   ]
  },
  {
   "cell_type": "code",
   "execution_count": 50,
   "metadata": {},
   "outputs": [],
   "source": [
    "# retriever = vectorstore.as_retriever(\n",
    "#     search_type=\"similarity\",\n",
    "#     search_kwargs={\"k\": 6631},\n",
    "# )"
   ]
  },
  {
   "cell_type": "code",
   "execution_count": 32,
   "metadata": {},
   "outputs": [],
   "source": [
    "from langchain.retrievers.self_query.base import SelfQueryRetriever\n",
    "from langchain.chains.query_constructor.base import AttributeInfo\n",
    "\n",
    "metadata_field_info = [\n",
    "    AttributeInfo(\n",
    "        name=\"Match Name\",\n",
    "        description=\"Name of the match\",\n",
    "        type=\"string\",\n",
    "    ),\n",
    "    AttributeInfo(\n",
    "        name=\"Series Name\",\n",
    "        description=\"Name of the series\",\n",
    "        type=\"string\",\n",
    "    ),\n",
    "    AttributeInfo(\n",
    "        name=\"Match Date\",\n",
    "        description=\"Date on which the match took place. Ex. 2008-02-01 \",\n",
    "        type=\"date\",\n",
    "    ),\n",
    "    AttributeInfo(\n",
    "        name=\"Team1 Name\", \n",
    "        description=\"Among two teams played this is the name of the first team that is playing the match\", type=\"string\"\n",
    "    ),\n",
    "    AttributeInfo(\n",
    "        name=\"Team1 Runs Scored\", \n",
    "        description=\"Among two teams played this is the runs scored by the first team that played the match\", \n",
    "        type=\"string\"\n",
    "    ),\n",
    "    AttributeInfo(\n",
    "        name=\"Team1 Wickets Fell\", \n",
    "        description=\"Among two teams played this is the wickets fallen for the first team that played the match\", \n",
    "        type=\"string\"\n",
    "    ),\n",
    "    AttributeInfo(\n",
    "        name=\"Team2 Name\", \n",
    "        description=\"Among two teams played this is the name of the second team that is playing the match\", type=\"string\"\n",
    "    ),\n",
    "    AttributeInfo(\n",
    "        name=\"Team2 Runs Scored\", \n",
    "        description=\"Among two teams played this is the runs scored by the second team that played the match\", \n",
    "        type=\"string\"\n",
    "    ),\n",
    "    AttributeInfo(\n",
    "        name=\"Team2 Wickets Fell\", \n",
    "        description=\"Among two teams played this is the wickets fallen for the second team that played the match\", \n",
    "        type=\"string\"\n",
    "    ),\n",
    "     AttributeInfo(\n",
    "        name=\"Match Venue (Stadium)\", \n",
    "        description=\"Name of the stadium at which the match took place\", \n",
    "        type=\"string\"\n",
    "    ),\n",
    "    AttributeInfo(\n",
    "        name=\"Match Venue (City)\", \n",
    "        description=\"Name of the city at which the match took place\", \n",
    "        type=\"string\"\n",
    "    ),\n",
    "    AttributeInfo(\n",
    "        name=\"Match Venue (Country)\", \n",
    "        description=\"Name of the country at which the match took place\", \n",
    "        type=\"string\"\n",
    "    ),\n",
    "    AttributeInfo(\n",
    "        name=\"Umpire 1\", \n",
    "        description=\"Name of the first umpire\", \n",
    "        type=\"string\"\n",
    "    ),\n",
    "    AttributeInfo(\n",
    "        name=\"Umpire 2\", \n",
    "        description=\"Name of the second umpire\", \n",
    "        type=\"string\"\n",
    "    ),\n",
    "    AttributeInfo(\n",
    "        name=\"Match Referee\", \n",
    "        description=\"Name of the match referee\", \n",
    "        type=\"string\"\n",
    "    ),\n",
    "    AttributeInfo(\n",
    "        name=\"Toss Winner\", \n",
    "        description=\"Among two teams played this is the name of the team that won the toss\", \n",
    "        type=\"string\"\n",
    "    ),\n",
    "    AttributeInfo(\n",
    "        name=\"Toss Winner Choice\", \n",
    "        description=\"This is the choice made the team that won the toss. Ex. bat, bowl\", \n",
    "        type=\"string\"\n",
    "    ),\n",
    "    AttributeInfo(\n",
    "        name=\"Match Winner\", \n",
    "        description=\"Name of the team that won the match\", \n",
    "        type=\"string\"\n",
    "    ),\n",
    "    AttributeInfo(\n",
    "        name=\"Match Result Text\", \n",
    "        description=\"Description of the match result\", \n",
    "        type=\"string\"\n",
    "    ),\n",
    "]\n",
    "\n",
    "document_content_description = \"t20 cricket matches details\"\n",
    "\n",
    "retriever = SelfQueryRetriever.from_llm(\n",
    "    llm, vectorstore, document_content_description, metadata_field_info, verbose=True)\n"
   ]
  },
  {
   "cell_type": "code",
   "execution_count": 26,
   "metadata": {},
   "outputs": [
    {
     "data": {
      "text/plain": [
       "[Document(page_content='Match Name: Netherlands Vs Zimbabwe 2Nd T20I\\nSeries Name: ZIM in IRELAND and NL  - 2019 (2019)\\nMatch Date: 2019-06-25\\nTeam1 Name: Netherlands\\nTeam1 Runs Scored: 152.0\\nTeam1 Wickets Fell: 8.0\\nTeam2 Name: Zimbabwe\\nTeam2 Runs Scored: 152.0\\nTeam2 Wickets Fell: 10.0\\nMatch Venue (Stadium): Hazelaarweg', metadata={'Match Date': '2019-06-25', 'Match Name': 'Netherlands Vs Zimbabwe 2Nd T20I', 'Match Referee': 'GF Labrooy', 'Match Result Text': 'Match tied (Zimbabwe won the one-over eliminator)', 'Match Venue (City)': 'Rotterdam', 'Match Venue (Country)': 'Netherlands', 'Match Venue (Stadium)': 'Hazelaarweg', 'Match Winner': '', 'Series Name': 'ZIM in IRELAND and NL  - 2019 (2019)', 'Team1 Name': 'Netherlands', 'Team1 Runs Scored': '152.0', 'Team1 Wickets Fell': '8.0', 'Team2 Name': 'Zimbabwe', 'Team2 Runs Scored': '152.0', 'Team2 Wickets Fell': '10.0', 'Toss Winner': 'Netherlands', 'Toss Winner Choice': 'bat', 'Umpire 1': 'HKG Jansen', 'Umpire 2': 'R Akram'}),\n",
       " Document(page_content='Match Venue (City): Rotterdam\\nMatch Venue (Country): Netherlands\\nUmpire 1: HKG Jansen\\nUmpire 2: R Akram\\nMatch Referee: GF Labrooy\\nToss Winner: Netherlands\\nToss Winner Choice: bat\\nMatch Winner: \\nMatch Result Text: Match tied (Zimbabwe won the one-over eliminator)', metadata={'Match Date': '2019-06-25', 'Match Name': 'Netherlands Vs Zimbabwe 2Nd T20I', 'Match Referee': 'GF Labrooy', 'Match Result Text': 'Match tied (Zimbabwe won the one-over eliminator)', 'Match Venue (City)': 'Rotterdam', 'Match Venue (Country)': 'Netherlands', 'Match Venue (Stadium)': 'Hazelaarweg', 'Match Winner': '', 'Series Name': 'ZIM in IRELAND and NL  - 2019 (2019)', 'Team1 Name': 'Netherlands', 'Team1 Runs Scored': '152.0', 'Team1 Wickets Fell': '8.0', 'Team2 Name': 'Zimbabwe', 'Team2 Runs Scored': '152.0', 'Team2 Wickets Fell': '10.0', 'Toss Winner': 'Netherlands', 'Toss Winner Choice': 'bat', 'Umpire 1': 'HKG Jansen', 'Umpire 2': 'R Akram'})]"
      ]
     },
     "execution_count": 26,
     "metadata": {},
     "output_type": "execute_result"
    }
   ],
   "source": [
    "retriever.get_relevant_documents(\"Netherlands Vs Zimbabwe 2Nd T20I\")"
   ]
  },
  {
   "cell_type": "code",
   "execution_count": 39,
   "metadata": {},
   "outputs": [],
   "source": [
    "message = \"\"\"\n",
    "Answer this question using the provided context only.\n",
    "\n",
    "{question}\n",
    "\n",
    "Context:\n",
    "{context}\n",
    "\"\"\"\n",
    "\n",
    "prompt = ChatPromptTemplate.from_messages([(\"human\", message)])\n",
    "\n",
    "rag_chain = {\"context\": retriever, \"question\": RunnablePassthrough()} | prompt | llm\n",
    "\n"
   ]
  },
  {
   "cell_type": "code",
   "execution_count": 43,
   "metadata": {},
   "outputs": [
    {
     "name": "stdout",
     "output_type": "stream",
     "text": [
      "The match that took place at AMI Stadium is:\n",
      "\n",
      "* New Zealand Vs Australia 2Nd T20I (2010-02-28)\n",
      "* New Zealand Vs Pakistan 3Rd T20I (2010-12-30)\n",
      "* New Zealand Vs India 1St T20I (2009-02-25)\n"
     ]
    }
   ],
   "source": [
    "response = rag_chain.invoke(\"which match took place at AMI Stadium\")\n",
    "\n",
    "print(response.content)"
   ]
  },
  {
   "cell_type": "code",
   "execution_count": 34,
   "metadata": {},
   "outputs": [],
   "source": [
    "from langchain_community.chat_message_histories import ChatMessageHistory\n",
    "from langchain_core.chat_history import BaseChatMessageHistory\n",
    "from langchain_core.runnables.history import RunnableWithMessageHistory\n",
    "from langchain_core.prompts import MessagesPlaceholder\n",
    "from langchain_core.messages import HumanMessage\n",
    "from operator import itemgetter\n",
    "from langchain.chains.retrieval import  create_retrieval_chain\n",
    "from langchain.chains.history_aware_retriever import create_history_aware_retriever\n",
    "from langchain.chains.combine_documents import create_stuff_documents_chain\n",
    "\n",
    "### Contextualize question ###\n",
    "contextualize_q_system_prompt = (\n",
    "    \"Given a chat history and the latest user question \"\n",
    "    \"which might reference context in the chat history, \"\n",
    "    \"formulate a standalone question which can be understood \"\n",
    "    \"without the chat history. Do NOT answer the question, \"\n",
    "    \"just reformulate it if needed and otherwise return it as is.\"\n",
    ")\n",
    "contextualize_q_prompt = ChatPromptTemplate.from_messages(\n",
    "    [\n",
    "        (\"system\", contextualize_q_system_prompt),\n",
    "        MessagesPlaceholder(\"chat_history\"),\n",
    "        (\"human\", \"{input}\"),\n",
    "    ]\n",
    ")\n",
    "history_aware_retriever = create_history_aware_retriever(\n",
    "    llm, retriever, contextualize_q_prompt\n",
    ")\n",
    "\n",
    "\n",
    "### Answer question ###\n",
    "system_prompt = (\n",
    "    \"You are an assistant for question-answering tasks. \"\n",
    "    \"The context provided has data regarding cricket matches played for years\"\n",
    "    \"Use the following pieces of retrieved context to answer \"\n",
    "    \"the question. If you don't know the answer, say that you \"\n",
    "    \"don't know.\"\n",
    "    \"\\n\\n\"\n",
    "    \"{context}\"\n",
    ")\n",
    "qa_prompt = ChatPromptTemplate.from_messages(\n",
    "    [\n",
    "        (\"system\", system_prompt),\n",
    "        MessagesPlaceholder(\"chat_history\"),\n",
    "        (\"human\", \"{input}\"),\n",
    "    ]\n",
    ")\n",
    "question_answer_chain = create_stuff_documents_chain(llm, qa_prompt)\n",
    "\n",
    "rag_chain = create_retrieval_chain(history_aware_retriever, question_answer_chain)\n",
    "\n",
    "\n",
    "### Statefully manage chat history ###\n",
    "store = {}\n",
    "\n",
    "\n",
    "def get_session_history(session_id: str) -> BaseChatMessageHistory:\n",
    "    if session_id not in store:\n",
    "        store[session_id] = ChatMessageHistory()\n",
    "    return store[session_id]\n",
    "\n",
    "\n",
    "conversational_rag_chain = RunnableWithMessageHistory(\n",
    "    rag_chain,\n",
    "    get_session_history,\n",
    "    input_messages_key=\"input\",\n",
    "    history_messages_key=\"chat_history\",\n",
    "    output_messages_key=\"answer\",\n",
    ")\n",
    "# response = rag_chain.invoke(\"among all the matches that have happened, when did the first australia vs india match happen\")\n",
    "config = {\"configurable\": {\"session_id\": \"first\"}}\n",
    "\n"
   ]
  },
  {
   "cell_type": "code",
   "execution_count": 44,
   "metadata": {},
   "outputs": [
    {
     "name": "stderr",
     "output_type": "stream",
     "text": [
      "Parent run 449ae316-3408-4193-bbb3-6378d00f4e71 not found for run 89fb1a0b-93c3-4827-9c34-fce569b04e68. Treating as a root run.\n"
     ]
    },
    {
     "data": {
      "text/plain": [
       "'According to the context, there were three matches that took place at AMI Stadium:\\n\\n1. The toss winner chose to bat.\\n2. Pakistan won by 103 runs.\\n3. New Zealand won by 7 wickets (with 7 balls remaining).\\n\\nSo, all three matches took place at AMI Stadium in Christchurch, New Zealand.'"
      ]
     },
     "execution_count": 44,
     "metadata": {},
     "output_type": "execute_result"
    }
   ],
   "source": [
    "conversational_rag_chain.invoke(\n",
    "    {\"input\": \"which match took place at AMI Stadium\"},\n",
    "    config={\n",
    "        \"configurable\": {\"session_id\": \"session-1\"}\n",
    "    },  # constructs a key \"abc123\" in `store`.\n",
    ")[\"answer\"]"
   ]
  },
  {
   "cell_type": "code",
   "execution_count": 21,
   "metadata": {},
   "outputs": [
    {
     "name": "stderr",
     "output_type": "stream",
     "text": [
      "Parent run 0f61c5aa-4cac-4755-9185-b854a205c048 not found for run bf313cbd-f83c-4d1f-95f9-be3458d23f9a. Treating as a root run.\n"
     ]
    },
    {
     "data": {
      "text/plain": [
       "\"I don't know. The provided context only contains information about matches between Philippines and P.N.G., but it doesn't mention any matches involving Australia or Sri Lanka.\""
      ]
     },
     "execution_count": 21,
     "metadata": {},
     "output_type": "execute_result"
    }
   ],
   "source": [
    "conversational_rag_chain.invoke(\n",
    "    {\"input\": \"what are the total number of matches played\"},\n",
    "    config={\n",
    "        \"configurable\": {\"session_id\": \"session-1\"}\n",
    "    },  # constructs a key \"abc123\" in `store`.\n",
    ")[\"answer\"]"
   ]
  },
  {
   "cell_type": "code",
   "execution_count": null,
   "metadata": {},
   "outputs": [],
   "source": [
    "vectorstore.delete_collection()"
   ]
  }
 ],
 "metadata": {
  "kernelspec": {
   "display_name": "ollam-llama",
   "language": "python",
   "name": "python3"
  },
  "language_info": {
   "codemirror_mode": {
    "name": "ipython",
    "version": 3
   },
   "file_extension": ".py",
   "mimetype": "text/x-python",
   "name": "python",
   "nbconvert_exporter": "python",
   "pygments_lexer": "ipython3",
   "version": "3.12.1"
  }
 },
 "nbformat": 4,
 "nbformat_minor": 2
}
